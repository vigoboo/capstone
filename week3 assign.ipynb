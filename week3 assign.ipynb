{
    "cells": [
        {
            "cell_type": "markdown",
            "metadata": {},
            "source": "\n\n# ***Segmenting and Clustering Neighborhoods in Toronto_Part 1***\n"
        },
        {
            "cell_type": "code",
            "execution_count": 13,
            "metadata": {},
            "outputs": [],
            "source": "from bs4 import BeautifulSoup\nimport requests\nimport pandas as pd"
        },
        {
            "cell_type": "markdown",
            "metadata": {},
            "source": "# **Scrape the List of Postal codes of canada**"
        },
        {
            "cell_type": "code",
            "execution_count": 14,
            "metadata": {},
            "outputs": [],
            "source": "List_url = \"https://en.wikipedia.org/wiki/List_of_postal_codes_of_Canada:_M\"\nsource = requests.get(List_url).text"
        },
        {
            "cell_type": "code",
            "execution_count": 15,
            "metadata": {},
            "outputs": [],
            "source": "soup = BeautifulSoup(source, 'xml')"
        },
        {
            "cell_type": "code",
            "execution_count": 16,
            "metadata": {},
            "outputs": [],
            "source": "table=soup.find('table')"
        },
        {
            "cell_type": "code",
            "execution_count": 17,
            "metadata": {},
            "outputs": [],
            "source": "#dataframe will consist of three columns: PostalCode, Borough, and Neighborhood\ncolumn_names = ['Postalcode','Borough','Neighborhood']\ndf = pd.DataFrame(columns = column_names)"
        },
        {
            "cell_type": "code",
            "execution_count": 18,
            "metadata": {},
            "outputs": [],
            "source": "# Search all the postcode, borough, neighborhood \nfor tr_cell in table.find_all('tr'):\n    row_data=[]\n    for td_cell in tr_cell.find_all('td'):\n        row_data.append(td_cell.text.strip())\n    if len(row_data)==3:\n        df.loc[len(df)] = row_data"
        },
        {
            "cell_type": "code",
            "execution_count": 19,
            "metadata": {},
            "outputs": [
                {
                    "data": {
                        "text/html": "<div>\n<style scoped>\n    .dataframe tbody tr th:only-of-type {\n        vertical-align: middle;\n    }\n\n    .dataframe tbody tr th {\n        vertical-align: top;\n    }\n\n    .dataframe thead th {\n        text-align: right;\n    }\n</style>\n<table border=\"1\" class=\"dataframe\">\n  <thead>\n    <tr style=\"text-align: right;\">\n      <th></th>\n      <th>Postalcode</th>\n      <th>Borough</th>\n      <th>Neighborhood</th>\n    </tr>\n  </thead>\n  <tbody>\n    <tr>\n      <th>0</th>\n      <td>M1A</td>\n      <td>Not assigned</td>\n      <td>Not assigned</td>\n    </tr>\n    <tr>\n      <th>1</th>\n      <td>M2A</td>\n      <td>Not assigned</td>\n      <td>Not assigned</td>\n    </tr>\n    <tr>\n      <th>2</th>\n      <td>M3A</td>\n      <td>North York</td>\n      <td>Parkwoods</td>\n    </tr>\n    <tr>\n      <th>3</th>\n      <td>M4A</td>\n      <td>North York</td>\n      <td>Victoria Village</td>\n    </tr>\n    <tr>\n      <th>4</th>\n      <td>M5A</td>\n      <td>Downtown Toronto</td>\n      <td>Regent Park, Harbourfront</td>\n    </tr>\n  </tbody>\n</table>\n</div>",
                        "text/plain": "  Postalcode           Borough               Neighborhood\n0        M1A      Not assigned               Not assigned\n1        M2A      Not assigned               Not assigned\n2        M3A        North York                  Parkwoods\n3        M4A        North York           Victoria Village\n4        M5A  Downtown Toronto  Regent Park, Harbourfront"
                    },
                    "execution_count": 19,
                    "metadata": {},
                    "output_type": "execute_result"
                }
            ],
            "source": "df.head()"
        },
        {
            "cell_type": "markdown",
            "metadata": {},
            "source": "**Data cleaning**"
        },
        {
            "cell_type": "code",
            "execution_count": 20,
            "metadata": {},
            "outputs": [],
            "source": "df=df[df['Borough']!='Not assigned']"
        },
        {
            "cell_type": "code",
            "execution_count": null,
            "metadata": {},
            "outputs": [],
            "source": "df[df['Neighborhood']=='Not assigned']=df['Borough']\ndf.head()"
        },
        {
            "cell_type": "code",
            "execution_count": 22,
            "metadata": {},
            "outputs": [],
            "source": "temp_df=df.groupby('Postalcode')['Neighborhood'].apply(lambda x: \"%s\" % ', '.join(x))\ntemp_df=temp_df.reset_index(drop=False)\ntemp_df.rename(columns={'Neighborhood':'Neighborhood_joined'},inplace=True)"
        },
        {
            "cell_type": "code",
            "execution_count": 23,
            "metadata": {},
            "outputs": [],
            "source": "df_merge = pd.merge(df, temp_df, on='Postalcode')"
        },
        {
            "cell_type": "code",
            "execution_count": 24,
            "metadata": {},
            "outputs": [],
            "source": "df_merge.drop(['Neighborhood'],axis=1,inplace=True)"
        },
        {
            "cell_type": "code",
            "execution_count": 25,
            "metadata": {},
            "outputs": [],
            "source": "df_merge.drop_duplicates(inplace=True)"
        },
        {
            "cell_type": "code",
            "execution_count": 26,
            "metadata": {},
            "outputs": [],
            "source": "df_merge.rename(columns={'Neighborhood_joined':'Neighborhood'},inplace=True)"
        },
        {
            "cell_type": "code",
            "execution_count": 27,
            "metadata": {},
            "outputs": [
                {
                    "data": {
                        "text/html": "<div>\n<style scoped>\n    .dataframe tbody tr th:only-of-type {\n        vertical-align: middle;\n    }\n\n    .dataframe tbody tr th {\n        vertical-align: top;\n    }\n\n    .dataframe thead th {\n        text-align: right;\n    }\n</style>\n<table border=\"1\" class=\"dataframe\">\n  <thead>\n    <tr style=\"text-align: right;\">\n      <th></th>\n      <th>Postalcode</th>\n      <th>Borough</th>\n      <th>Neighborhood</th>\n    </tr>\n  </thead>\n  <tbody>\n    <tr>\n      <th>0</th>\n      <td>M3A</td>\n      <td>North York</td>\n      <td>Parkwoods</td>\n    </tr>\n    <tr>\n      <th>1</th>\n      <td>M4A</td>\n      <td>North York</td>\n      <td>Victoria Village</td>\n    </tr>\n    <tr>\n      <th>2</th>\n      <td>M5A</td>\n      <td>Downtown Toronto</td>\n      <td>Regent Park, Harbourfront</td>\n    </tr>\n    <tr>\n      <th>3</th>\n      <td>M6A</td>\n      <td>North York</td>\n      <td>Lawrence Manor, Lawrence Heights</td>\n    </tr>\n    <tr>\n      <th>4</th>\n      <td>M7A</td>\n      <td>Downtown Toronto</td>\n      <td>Queen's Park, Ontario Provincial Government</td>\n    </tr>\n  </tbody>\n</table>\n</div>",
                        "text/plain": "  Postalcode           Borough                                 Neighborhood\n0        M3A        North York                                    Parkwoods\n1        M4A        North York                             Victoria Village\n2        M5A  Downtown Toronto                    Regent Park, Harbourfront\n3        M6A        North York             Lawrence Manor, Lawrence Heights\n4        M7A  Downtown Toronto  Queen's Park, Ontario Provincial Government"
                    },
                    "execution_count": 27,
                    "metadata": {},
                    "output_type": "execute_result"
                }
            ],
            "source": "df_merge.head()"
        },
        {
            "cell_type": "code",
            "execution_count": 28,
            "metadata": {},
            "outputs": [
                {
                    "data": {
                        "text/plain": "(103, 3)"
                    },
                    "execution_count": 28,
                    "metadata": {},
                    "output_type": "execute_result"
                }
            ],
            "source": "df_merge.shape"
        },
        {
            "cell_type": "markdown",
            "metadata": {},
            "source": "# **Problem 2**"
        },
        {
            "cell_type": "code",
            "execution_count": 33,
            "metadata": {},
            "outputs": [],
            "source": "import pandas as pd\nimport requests\nfrom bs4 import BeautifulSoup"
        },
        {
            "cell_type": "code",
            "execution_count": 34,
            "metadata": {},
            "outputs": [],
            "source": "List_url = \"https://en.wikipedia.org/wiki/List_of_postal_codes_of_Canada:_M\"\nsource = requests.get(List_url).text"
        },
        {
            "cell_type": "code",
            "execution_count": 35,
            "metadata": {},
            "outputs": [],
            "source": "soup = BeautifulSoup(source, 'xml')"
        },
        {
            "cell_type": "code",
            "execution_count": 36,
            "metadata": {},
            "outputs": [],
            "source": "table=soup.find('table')"
        },
        {
            "cell_type": "code",
            "execution_count": 37,
            "metadata": {},
            "outputs": [],
            "source": "column_names=['Postalcode','Borough','Neighbourhood']\ndf = pd.DataFrame(columns=column_names)"
        },
        {
            "cell_type": "code",
            "execution_count": 38,
            "metadata": {},
            "outputs": [],
            "source": "for tr_cell in table.find_all('tr'):\n    row_data=[]\n    for td_cell in tr_cell.find_all('td'):\n        row_data.append(td_cell.text.strip())\n    if len(row_data)==3:\n        df.loc[len(df)] = row_data"
        },
        {
            "cell_type": "code",
            "execution_count": 39,
            "metadata": {},
            "outputs": [
                {
                    "data": {
                        "text/html": "<div>\n<style scoped>\n    .dataframe tbody tr th:only-of-type {\n        vertical-align: middle;\n    }\n\n    .dataframe tbody tr th {\n        vertical-align: top;\n    }\n\n    .dataframe thead th {\n        text-align: right;\n    }\n</style>\n<table border=\"1\" class=\"dataframe\">\n  <thead>\n    <tr style=\"text-align: right;\">\n      <th></th>\n      <th>Postalcode</th>\n      <th>Borough</th>\n      <th>Neighbourhood</th>\n    </tr>\n  </thead>\n  <tbody>\n    <tr>\n      <th>0</th>\n      <td>M1A</td>\n      <td>Not assigned</td>\n      <td>Not assigned</td>\n    </tr>\n    <tr>\n      <th>1</th>\n      <td>M2A</td>\n      <td>Not assigned</td>\n      <td>Not assigned</td>\n    </tr>\n    <tr>\n      <th>2</th>\n      <td>M3A</td>\n      <td>North York</td>\n      <td>Parkwoods</td>\n    </tr>\n    <tr>\n      <th>3</th>\n      <td>M4A</td>\n      <td>North York</td>\n      <td>Victoria Village</td>\n    </tr>\n    <tr>\n      <th>4</th>\n      <td>M5A</td>\n      <td>Downtown Toronto</td>\n      <td>Regent Park, Harbourfront</td>\n    </tr>\n  </tbody>\n</table>\n</div>",
                        "text/plain": "  Postalcode           Borough              Neighbourhood\n0        M1A      Not assigned               Not assigned\n1        M2A      Not assigned               Not assigned\n2        M3A        North York                  Parkwoods\n3        M4A        North York           Victoria Village\n4        M5A  Downtown Toronto  Regent Park, Harbourfront"
                    },
                    "execution_count": 39,
                    "metadata": {},
                    "output_type": "execute_result"
                }
            ],
            "source": "df.head()"
        },
        {
            "cell_type": "code",
            "execution_count": 40,
            "metadata": {},
            "outputs": [],
            "source": "df=df[df['Borough']!='Not assigned']"
        },
        {
            "cell_type": "code",
            "execution_count": null,
            "metadata": {},
            "outputs": [],
            "source": "df[df['Neighbourhood']=='Not assigned']=df['Borough']\ndf.head()"
        },
        {
            "cell_type": "code",
            "execution_count": 42,
            "metadata": {},
            "outputs": [],
            "source": "temp_df=df.groupby('Postalcode')['Neighbourhood'].apply(lambda x: \"%s\" % ', '.join(x))\ntemp_df=temp_df.reset_index(drop=False)\ntemp_df.rename(columns={'Neighbourhood':'Neighbourhood_joined'},inplace=True)"
        },
        {
            "cell_type": "code",
            "execution_count": 43,
            "metadata": {},
            "outputs": [],
            "source": "df_merge = pd.merge(df, temp_df, on='Postalcode')"
        },
        {
            "cell_type": "code",
            "execution_count": 44,
            "metadata": {},
            "outputs": [],
            "source": "df_merge.drop(['Neighbourhood'],axis=1,inplace=True)"
        },
        {
            "cell_type": "code",
            "execution_count": 45,
            "metadata": {},
            "outputs": [],
            "source": "df_merge.drop_duplicates(inplace=True)"
        },
        {
            "cell_type": "code",
            "execution_count": 46,
            "metadata": {},
            "outputs": [
                {
                    "data": {
                        "text/html": "<div>\n<style scoped>\n    .dataframe tbody tr th:only-of-type {\n        vertical-align: middle;\n    }\n\n    .dataframe tbody tr th {\n        vertical-align: top;\n    }\n\n    .dataframe thead th {\n        text-align: right;\n    }\n</style>\n<table border=\"1\" class=\"dataframe\">\n  <thead>\n    <tr style=\"text-align: right;\">\n      <th></th>\n      <th>Postalcode</th>\n      <th>Borough</th>\n      <th>Neighbourhood</th>\n    </tr>\n  </thead>\n  <tbody>\n    <tr>\n      <th>0</th>\n      <td>M3A</td>\n      <td>North York</td>\n      <td>Parkwoods</td>\n    </tr>\n    <tr>\n      <th>1</th>\n      <td>M4A</td>\n      <td>North York</td>\n      <td>Victoria Village</td>\n    </tr>\n    <tr>\n      <th>2</th>\n      <td>M5A</td>\n      <td>Downtown Toronto</td>\n      <td>Regent Park, Harbourfront</td>\n    </tr>\n    <tr>\n      <th>3</th>\n      <td>M6A</td>\n      <td>North York</td>\n      <td>Lawrence Manor, Lawrence Heights</td>\n    </tr>\n    <tr>\n      <th>4</th>\n      <td>M7A</td>\n      <td>Downtown Toronto</td>\n      <td>Queen's Park, Ontario Provincial Government</td>\n    </tr>\n  </tbody>\n</table>\n</div>",
                        "text/plain": "  Postalcode           Borough                                Neighbourhood\n0        M3A        North York                                    Parkwoods\n1        M4A        North York                             Victoria Village\n2        M5A  Downtown Toronto                    Regent Park, Harbourfront\n3        M6A        North York             Lawrence Manor, Lawrence Heights\n4        M7A  Downtown Toronto  Queen's Park, Ontario Provincial Government"
                    },
                    "execution_count": 46,
                    "metadata": {},
                    "output_type": "execute_result"
                }
            ],
            "source": "df_merge.rename(columns={'Neighbourhood_joined':'Neighbourhood'},inplace=True)\ndf_merge.head()"
        },
        {
            "cell_type": "code",
            "execution_count": 47,
            "metadata": {},
            "outputs": [
                {
                    "data": {
                        "text/plain": "(103, 3)"
                    },
                    "execution_count": 47,
                    "metadata": {},
                    "output_type": "execute_result"
                }
            ],
            "source": "df_merge.shape"
        },
        {
            "cell_type": "code",
            "execution_count": null,
            "metadata": {},
            "outputs": [],
            "source": "def get_geocode(postal_code):\n    # initialize your variable to None\n    lat_lng_coords = None\n    while(lat_lng_coords is None):\n        g = geocoder.google('{}, Toronto, Ontario'.format(postal_code))\n        lat_lng_coords = g.latlng\n    latitude = lat_lng_coords[0]\n    longitude = lat_lng_coords[1]\n    return latitude,longitude"
        },
        {
            "cell_type": "code",
            "execution_count": 48,
            "metadata": {},
            "outputs": [],
            "source": "geo_df=pd.read_csv('http://cocl.us/Geospatial_data')"
        },
        {
            "cell_type": "code",
            "execution_count": 49,
            "metadata": {},
            "outputs": [
                {
                    "data": {
                        "text/html": "<div>\n<style scoped>\n    .dataframe tbody tr th:only-of-type {\n        vertical-align: middle;\n    }\n\n    .dataframe tbody tr th {\n        vertical-align: top;\n    }\n\n    .dataframe thead th {\n        text-align: right;\n    }\n</style>\n<table border=\"1\" class=\"dataframe\">\n  <thead>\n    <tr style=\"text-align: right;\">\n      <th></th>\n      <th>Postal Code</th>\n      <th>Latitude</th>\n      <th>Longitude</th>\n    </tr>\n  </thead>\n  <tbody>\n    <tr>\n      <th>0</th>\n      <td>M1B</td>\n      <td>43.806686</td>\n      <td>-79.194353</td>\n    </tr>\n    <tr>\n      <th>1</th>\n      <td>M1C</td>\n      <td>43.784535</td>\n      <td>-79.160497</td>\n    </tr>\n    <tr>\n      <th>2</th>\n      <td>M1E</td>\n      <td>43.763573</td>\n      <td>-79.188711</td>\n    </tr>\n    <tr>\n      <th>3</th>\n      <td>M1G</td>\n      <td>43.770992</td>\n      <td>-79.216917</td>\n    </tr>\n    <tr>\n      <th>4</th>\n      <td>M1H</td>\n      <td>43.773136</td>\n      <td>-79.239476</td>\n    </tr>\n  </tbody>\n</table>\n</div>",
                        "text/plain": "  Postal Code   Latitude  Longitude\n0         M1B  43.806686 -79.194353\n1         M1C  43.784535 -79.160497\n2         M1E  43.763573 -79.188711\n3         M1G  43.770992 -79.216917\n4         M1H  43.773136 -79.239476"
                    },
                    "execution_count": 49,
                    "metadata": {},
                    "output_type": "execute_result"
                }
            ],
            "source": "geo_df.head()"
        },
        {
            "cell_type": "code",
            "execution_count": 50,
            "metadata": {},
            "outputs": [],
            "source": "geo_df.rename(columns={'Postal Code':'Postalcode'},inplace=True)\ngeo_merged = pd.merge(geo_df, df_merge, on='Postalcode')"
        },
        {
            "cell_type": "code",
            "execution_count": 51,
            "metadata": {},
            "outputs": [],
            "source": "geo_data=geo_merged[['Postalcode','Borough','Neighbourhood','Latitude','Longitude']]"
        },
        {
            "cell_type": "code",
            "execution_count": 52,
            "metadata": {},
            "outputs": [
                {
                    "data": {
                        "text/html": "<div>\n<style scoped>\n    .dataframe tbody tr th:only-of-type {\n        vertical-align: middle;\n    }\n\n    .dataframe tbody tr th {\n        vertical-align: top;\n    }\n\n    .dataframe thead th {\n        text-align: right;\n    }\n</style>\n<table border=\"1\" class=\"dataframe\">\n  <thead>\n    <tr style=\"text-align: right;\">\n      <th></th>\n      <th>Postalcode</th>\n      <th>Borough</th>\n      <th>Neighbourhood</th>\n      <th>Latitude</th>\n      <th>Longitude</th>\n    </tr>\n  </thead>\n  <tbody>\n    <tr>\n      <th>0</th>\n      <td>M1B</td>\n      <td>Scarborough</td>\n      <td>Malvern, Rouge</td>\n      <td>43.806686</td>\n      <td>-79.194353</td>\n    </tr>\n    <tr>\n      <th>1</th>\n      <td>M1C</td>\n      <td>Scarborough</td>\n      <td>Rouge Hill, Port Union, Highland Creek</td>\n      <td>43.784535</td>\n      <td>-79.160497</td>\n    </tr>\n    <tr>\n      <th>2</th>\n      <td>M1E</td>\n      <td>Scarborough</td>\n      <td>Guildwood, Morningside, West Hill</td>\n      <td>43.763573</td>\n      <td>-79.188711</td>\n    </tr>\n    <tr>\n      <th>3</th>\n      <td>M1G</td>\n      <td>Scarborough</td>\n      <td>Woburn</td>\n      <td>43.770992</td>\n      <td>-79.216917</td>\n    </tr>\n    <tr>\n      <th>4</th>\n      <td>M1H</td>\n      <td>Scarborough</td>\n      <td>Cedarbrae</td>\n      <td>43.773136</td>\n      <td>-79.239476</td>\n    </tr>\n  </tbody>\n</table>\n</div>",
                        "text/plain": "  Postalcode      Borough                           Neighbourhood   Latitude  \\\n0        M1B  Scarborough                          Malvern, Rouge  43.806686   \n1        M1C  Scarborough  Rouge Hill, Port Union, Highland Creek  43.784535   \n2        M1E  Scarborough       Guildwood, Morningside, West Hill  43.763573   \n3        M1G  Scarborough                                  Woburn  43.770992   \n4        M1H  Scarborough                               Cedarbrae  43.773136   \n\n   Longitude  \n0 -79.194353  \n1 -79.160497  \n2 -79.188711  \n3 -79.216917  \n4 -79.239476  "
                    },
                    "execution_count": 52,
                    "metadata": {},
                    "output_type": "execute_result"
                }
            ],
            "source": "geo_data.head()"
        },
        {
            "cell_type": "markdown",
            "metadata": {},
            "source": "# **Problem 3**"
        },
        {
            "cell_type": "code",
            "execution_count": 53,
            "metadata": {},
            "outputs": [
                {
                    "name": "stdout",
                    "output_type": "stream",
                    "text": "Libraries imported.\n"
                }
            ],
            "source": "import pandas as pd\nimport numpy as np\nimport requests\nfrom bs4 import BeautifulSoup\nimport os\nfrom sklearn.cluster import KMeans\nimport folium \nfrom geopy.geocoders import Nominatim \nimport matplotlib.cm as cm\nimport matplotlib.colors as colors\n\n\nprint('Libraries imported.')"
        },
        {
            "cell_type": "code",
            "execution_count": 55,
            "metadata": {},
            "outputs": [],
            "source": "List_url='https://en.wikipedia.org/wiki/List_of_postal_codes_of_Canada:_M'\nsource = requests.get(List_url).text"
        },
        {
            "cell_type": "code",
            "execution_count": 56,
            "metadata": {},
            "outputs": [],
            "source": "soup = BeautifulSoup(source, 'xml')\ntable=soup.find('table')\ncolumn_names=['Postalcode','Borough','Neighborhood']\ndf = pd.DataFrame(columns=column_names)"
        },
        {
            "cell_type": "code",
            "execution_count": 57,
            "metadata": {},
            "outputs": [],
            "source": "for tr_cell in table.find_all('tr'):\n    row_data=[]\n    for td_cell in tr_cell.find_all('td'):\n        row_data.append(td_cell.text.strip())\n    if len(row_data)==3:\n        df.loc[len(df)] = row_data\n        df.head()"
        },
        {
            "cell_type": "code",
            "execution_count": 58,
            "metadata": {},
            "outputs": [],
            "source": "df=df[df['Borough']!='Not assigned']"
        },
        {
            "cell_type": "code",
            "execution_count": null,
            "metadata": {},
            "outputs": [],
            "source": "df[df['Neighborhood']=='Not assigned']=df['Borough']"
        },
        {
            "cell_type": "code",
            "execution_count": 60,
            "metadata": {},
            "outputs": [
                {
                    "data": {
                        "text/html": "<div>\n<style scoped>\n    .dataframe tbody tr th:only-of-type {\n        vertical-align: middle;\n    }\n\n    .dataframe tbody tr th {\n        vertical-align: top;\n    }\n\n    .dataframe thead th {\n        text-align: right;\n    }\n</style>\n<table border=\"1\" class=\"dataframe\">\n  <thead>\n    <tr style=\"text-align: right;\">\n      <th></th>\n      <th>Postalcode</th>\n      <th>Borough</th>\n      <th>Neighborhood</th>\n    </tr>\n  </thead>\n  <tbody>\n    <tr>\n      <th>2</th>\n      <td>M3A</td>\n      <td>North York</td>\n      <td>Parkwoods</td>\n    </tr>\n    <tr>\n      <th>3</th>\n      <td>M4A</td>\n      <td>North York</td>\n      <td>Victoria Village</td>\n    </tr>\n    <tr>\n      <th>4</th>\n      <td>M5A</td>\n      <td>Downtown Toronto</td>\n      <td>Regent Park, Harbourfront</td>\n    </tr>\n    <tr>\n      <th>5</th>\n      <td>M6A</td>\n      <td>North York</td>\n      <td>Lawrence Manor, Lawrence Heights</td>\n    </tr>\n    <tr>\n      <th>6</th>\n      <td>M7A</td>\n      <td>Downtown Toronto</td>\n      <td>Queen's Park, Ontario Provincial Government</td>\n    </tr>\n  </tbody>\n</table>\n</div>",
                        "text/plain": "  Postalcode           Borough                                 Neighborhood\n2        M3A        North York                                    Parkwoods\n3        M4A        North York                             Victoria Village\n4        M5A  Downtown Toronto                    Regent Park, Harbourfront\n5        M6A        North York             Lawrence Manor, Lawrence Heights\n6        M7A  Downtown Toronto  Queen's Park, Ontario Provincial Government"
                    },
                    "execution_count": 60,
                    "metadata": {},
                    "output_type": "execute_result"
                }
            ],
            "source": "df.head()"
        },
        {
            "cell_type": "code",
            "execution_count": 61,
            "metadata": {},
            "outputs": [],
            "source": "temp_df=df.groupby('Postalcode')['Neighborhood'].apply(lambda x: \"%s\" % ', '.join(x))\ntemp_df=temp_df.reset_index(drop=False)\ntemp_df.rename(columns={'Neighborhood':'Neighborhood_joined'},inplace=True)"
        },
        {
            "cell_type": "code",
            "execution_count": 62,
            "metadata": {},
            "outputs": [],
            "source": "df_merge = pd.merge(df, temp_df, on='Postalcode')"
        },
        {
            "cell_type": "code",
            "execution_count": 63,
            "metadata": {},
            "outputs": [],
            "source": "df_merge.drop(['Neighborhood'],axis=1,inplace=True)"
        },
        {
            "cell_type": "code",
            "execution_count": 64,
            "metadata": {},
            "outputs": [],
            "source": "df_merge.drop_duplicates(inplace=True)"
        },
        {
            "cell_type": "code",
            "execution_count": 65,
            "metadata": {},
            "outputs": [],
            "source": "df_merge.rename(columns={'Neighborhood_joined':'Neighborhood'},inplace=True)"
        },
        {
            "cell_type": "code",
            "execution_count": 66,
            "metadata": {},
            "outputs": [
                {
                    "data": {
                        "text/html": "<div>\n<style scoped>\n    .dataframe tbody tr th:only-of-type {\n        vertical-align: middle;\n    }\n\n    .dataframe tbody tr th {\n        vertical-align: top;\n    }\n\n    .dataframe thead th {\n        text-align: right;\n    }\n</style>\n<table border=\"1\" class=\"dataframe\">\n  <thead>\n    <tr style=\"text-align: right;\">\n      <th></th>\n      <th>Postalcode</th>\n      <th>Borough</th>\n      <th>Neighborhood</th>\n    </tr>\n  </thead>\n  <tbody>\n    <tr>\n      <th>0</th>\n      <td>M3A</td>\n      <td>North York</td>\n      <td>Parkwoods</td>\n    </tr>\n    <tr>\n      <th>1</th>\n      <td>M4A</td>\n      <td>North York</td>\n      <td>Victoria Village</td>\n    </tr>\n    <tr>\n      <th>2</th>\n      <td>M5A</td>\n      <td>Downtown Toronto</td>\n      <td>Regent Park, Harbourfront</td>\n    </tr>\n    <tr>\n      <th>3</th>\n      <td>M6A</td>\n      <td>North York</td>\n      <td>Lawrence Manor, Lawrence Heights</td>\n    </tr>\n    <tr>\n      <th>4</th>\n      <td>M7A</td>\n      <td>Downtown Toronto</td>\n      <td>Queen's Park, Ontario Provincial Government</td>\n    </tr>\n  </tbody>\n</table>\n</div>",
                        "text/plain": "  Postalcode           Borough                                 Neighborhood\n0        M3A        North York                                    Parkwoods\n1        M4A        North York                             Victoria Village\n2        M5A  Downtown Toronto                    Regent Park, Harbourfront\n3        M6A        North York             Lawrence Manor, Lawrence Heights\n4        M7A  Downtown Toronto  Queen's Park, Ontario Provincial Government"
                    },
                    "execution_count": 66,
                    "metadata": {},
                    "output_type": "execute_result"
                }
            ],
            "source": "df_merge.head()"
        },
        {
            "cell_type": "code",
            "execution_count": 67,
            "metadata": {},
            "outputs": [
                {
                    "data": {
                        "text/plain": "(103, 3)"
                    },
                    "execution_count": 67,
                    "metadata": {},
                    "output_type": "execute_result"
                }
            ],
            "source": "df_merge.shape"
        },
        {
            "cell_type": "code",
            "execution_count": 68,
            "metadata": {},
            "outputs": [],
            "source": "def get_geocode(postal_code):\n    # initialize your variable to None\n    lat_lng_coords = None\n    while(lat_lng_coords is None):\n        g = geocoder.google('{}, Toronto, Ontario'.format(postal_code))\n        lat_lng_coords = g.latlng\n    latitude = lat_lng_coords[0]\n    longitude = lat_lng_coords[1]\n    return latitude,longitude"
        },
        {
            "cell_type": "code",
            "execution_count": 69,
            "metadata": {},
            "outputs": [],
            "source": "geo_df=pd.read_csv('http://cocl.us/Geospatial_data')"
        },
        {
            "cell_type": "code",
            "execution_count": 70,
            "metadata": {},
            "outputs": [
                {
                    "data": {
                        "text/html": "<div>\n<style scoped>\n    .dataframe tbody tr th:only-of-type {\n        vertical-align: middle;\n    }\n\n    .dataframe tbody tr th {\n        vertical-align: top;\n    }\n\n    .dataframe thead th {\n        text-align: right;\n    }\n</style>\n<table border=\"1\" class=\"dataframe\">\n  <thead>\n    <tr style=\"text-align: right;\">\n      <th></th>\n      <th>Postal Code</th>\n      <th>Latitude</th>\n      <th>Longitude</th>\n    </tr>\n  </thead>\n  <tbody>\n    <tr>\n      <th>0</th>\n      <td>M1B</td>\n      <td>43.806686</td>\n      <td>-79.194353</td>\n    </tr>\n    <tr>\n      <th>1</th>\n      <td>M1C</td>\n      <td>43.784535</td>\n      <td>-79.160497</td>\n    </tr>\n    <tr>\n      <th>2</th>\n      <td>M1E</td>\n      <td>43.763573</td>\n      <td>-79.188711</td>\n    </tr>\n    <tr>\n      <th>3</th>\n      <td>M1G</td>\n      <td>43.770992</td>\n      <td>-79.216917</td>\n    </tr>\n    <tr>\n      <th>4</th>\n      <td>M1H</td>\n      <td>43.773136</td>\n      <td>-79.239476</td>\n    </tr>\n  </tbody>\n</table>\n</div>",
                        "text/plain": "  Postal Code   Latitude  Longitude\n0         M1B  43.806686 -79.194353\n1         M1C  43.784535 -79.160497\n2         M1E  43.763573 -79.188711\n3         M1G  43.770992 -79.216917\n4         M1H  43.773136 -79.239476"
                    },
                    "execution_count": 70,
                    "metadata": {},
                    "output_type": "execute_result"
                }
            ],
            "source": "geo_df.head()"
        },
        {
            "cell_type": "code",
            "execution_count": 71,
            "metadata": {},
            "outputs": [],
            "source": "geo_df.rename(columns={'Postal Code':'Postalcode'},inplace=True)\ngeo_merged = pd.merge(geo_df, df_merge, on='Postalcode')"
        },
        {
            "cell_type": "code",
            "execution_count": 72,
            "metadata": {},
            "outputs": [
                {
                    "data": {
                        "text/html": "<div>\n<style scoped>\n    .dataframe tbody tr th:only-of-type {\n        vertical-align: middle;\n    }\n\n    .dataframe tbody tr th {\n        vertical-align: top;\n    }\n\n    .dataframe thead th {\n        text-align: right;\n    }\n</style>\n<table border=\"1\" class=\"dataframe\">\n  <thead>\n    <tr style=\"text-align: right;\">\n      <th></th>\n      <th>Postalcode</th>\n      <th>Latitude</th>\n      <th>Longitude</th>\n      <th>Borough</th>\n      <th>Neighborhood</th>\n    </tr>\n  </thead>\n  <tbody>\n    <tr>\n      <th>0</th>\n      <td>M1B</td>\n      <td>43.806686</td>\n      <td>-79.194353</td>\n      <td>Scarborough</td>\n      <td>Malvern, Rouge</td>\n    </tr>\n    <tr>\n      <th>1</th>\n      <td>M1C</td>\n      <td>43.784535</td>\n      <td>-79.160497</td>\n      <td>Scarborough</td>\n      <td>Rouge Hill, Port Union, Highland Creek</td>\n    </tr>\n    <tr>\n      <th>2</th>\n      <td>M1E</td>\n      <td>43.763573</td>\n      <td>-79.188711</td>\n      <td>Scarborough</td>\n      <td>Guildwood, Morningside, West Hill</td>\n    </tr>\n    <tr>\n      <th>3</th>\n      <td>M1G</td>\n      <td>43.770992</td>\n      <td>-79.216917</td>\n      <td>Scarborough</td>\n      <td>Woburn</td>\n    </tr>\n    <tr>\n      <th>4</th>\n      <td>M1H</td>\n      <td>43.773136</td>\n      <td>-79.239476</td>\n      <td>Scarborough</td>\n      <td>Cedarbrae</td>\n    </tr>\n  </tbody>\n</table>\n</div>",
                        "text/plain": "  Postalcode   Latitude  Longitude      Borough  \\\n0        M1B  43.806686 -79.194353  Scarborough   \n1        M1C  43.784535 -79.160497  Scarborough   \n2        M1E  43.763573 -79.188711  Scarborough   \n3        M1G  43.770992 -79.216917  Scarborough   \n4        M1H  43.773136 -79.239476  Scarborough   \n\n                             Neighborhood  \n0                          Malvern, Rouge  \n1  Rouge Hill, Port Union, Highland Creek  \n2       Guildwood, Morningside, West Hill  \n3                                  Woburn  \n4                               Cedarbrae  "
                    },
                    "execution_count": 72,
                    "metadata": {},
                    "output_type": "execute_result"
                }
            ],
            "source": "geo_merged.head()"
        },
        {
            "cell_type": "code",
            "execution_count": 73,
            "metadata": {},
            "outputs": [
                {
                    "data": {
                        "text/html": "<div>\n<style scoped>\n    .dataframe tbody tr th:only-of-type {\n        vertical-align: middle;\n    }\n\n    .dataframe tbody tr th {\n        vertical-align: top;\n    }\n\n    .dataframe thead th {\n        text-align: right;\n    }\n</style>\n<table border=\"1\" class=\"dataframe\">\n  <thead>\n    <tr style=\"text-align: right;\">\n      <th></th>\n      <th>Postalcode</th>\n      <th>Borough</th>\n      <th>Neighborhood</th>\n      <th>Latitude</th>\n      <th>Longitude</th>\n    </tr>\n  </thead>\n  <tbody>\n    <tr>\n      <th>0</th>\n      <td>M1B</td>\n      <td>Scarborough</td>\n      <td>Malvern, Rouge</td>\n      <td>43.806686</td>\n      <td>-79.194353</td>\n    </tr>\n    <tr>\n      <th>1</th>\n      <td>M1C</td>\n      <td>Scarborough</td>\n      <td>Rouge Hill, Port Union, Highland Creek</td>\n      <td>43.784535</td>\n      <td>-79.160497</td>\n    </tr>\n    <tr>\n      <th>2</th>\n      <td>M1E</td>\n      <td>Scarborough</td>\n      <td>Guildwood, Morningside, West Hill</td>\n      <td>43.763573</td>\n      <td>-79.188711</td>\n    </tr>\n    <tr>\n      <th>3</th>\n      <td>M1G</td>\n      <td>Scarborough</td>\n      <td>Woburn</td>\n      <td>43.770992</td>\n      <td>-79.216917</td>\n    </tr>\n    <tr>\n      <th>4</th>\n      <td>M1H</td>\n      <td>Scarborough</td>\n      <td>Cedarbrae</td>\n      <td>43.773136</td>\n      <td>-79.239476</td>\n    </tr>\n  </tbody>\n</table>\n</div>",
                        "text/plain": "  Postalcode      Borough                            Neighborhood   Latitude  \\\n0        M1B  Scarborough                          Malvern, Rouge  43.806686   \n1        M1C  Scarborough  Rouge Hill, Port Union, Highland Creek  43.784535   \n2        M1E  Scarborough       Guildwood, Morningside, West Hill  43.763573   \n3        M1G  Scarborough                                  Woburn  43.770992   \n4        M1H  Scarborough                               Cedarbrae  43.773136   \n\n   Longitude  \n0 -79.194353  \n1 -79.160497  \n2 -79.188711  \n3 -79.216917  \n4 -79.239476  "
                    },
                    "execution_count": 73,
                    "metadata": {},
                    "output_type": "execute_result"
                }
            ],
            "source": "geo_data=geo_merged[['Postalcode','Borough','Neighborhood','Latitude','Longitude']]\ngeo_data.head()"
        },
        {
            "cell_type": "code",
            "execution_count": 74,
            "metadata": {},
            "outputs": [
                {
                    "data": {
                        "text/html": "<div>\n<style scoped>\n    .dataframe tbody tr th:only-of-type {\n        vertical-align: middle;\n    }\n\n    .dataframe tbody tr th {\n        vertical-align: top;\n    }\n\n    .dataframe thead th {\n        text-align: right;\n    }\n</style>\n<table border=\"1\" class=\"dataframe\">\n  <thead>\n    <tr style=\"text-align: right;\">\n      <th></th>\n      <th>Postalcode</th>\n      <th>Borough</th>\n      <th>Neighborhood</th>\n      <th>Latitude</th>\n      <th>Longitude</th>\n    </tr>\n  </thead>\n  <tbody>\n    <tr>\n      <th>37</th>\n      <td>M4E</td>\n      <td>East Toronto</td>\n      <td>The Beaches</td>\n      <td>43.676357</td>\n      <td>-79.293031</td>\n    </tr>\n    <tr>\n      <th>41</th>\n      <td>M4K</td>\n      <td>East Toronto</td>\n      <td>The Danforth West, Riverdale</td>\n      <td>43.679557</td>\n      <td>-79.352188</td>\n    </tr>\n    <tr>\n      <th>42</th>\n      <td>M4L</td>\n      <td>East Toronto</td>\n      <td>India Bazaar, The Beaches West</td>\n      <td>43.668999</td>\n      <td>-79.315572</td>\n    </tr>\n    <tr>\n      <th>43</th>\n      <td>M4M</td>\n      <td>East Toronto</td>\n      <td>Studio District</td>\n      <td>43.659526</td>\n      <td>-79.340923</td>\n    </tr>\n    <tr>\n      <th>44</th>\n      <td>M4N</td>\n      <td>Central Toronto</td>\n      <td>Lawrence Park</td>\n      <td>43.728020</td>\n      <td>-79.388790</td>\n    </tr>\n  </tbody>\n</table>\n</div>",
                        "text/plain": "   Postalcode          Borough                    Neighborhood   Latitude  \\\n37        M4E     East Toronto                     The Beaches  43.676357   \n41        M4K     East Toronto    The Danforth West, Riverdale  43.679557   \n42        M4L     East Toronto  India Bazaar, The Beaches West  43.668999   \n43        M4M     East Toronto                 Studio District  43.659526   \n44        M4N  Central Toronto                   Lawrence Park  43.728020   \n\n    Longitude  \n37 -79.293031  \n41 -79.352188  \n42 -79.315572  \n43 -79.340923  \n44 -79.388790  "
                    },
                    "execution_count": 74,
                    "metadata": {},
                    "output_type": "execute_result"
                }
            ],
            "source": "toronto_data=geo_data[geo_data['Borough'].str.contains(\"Toronto\")]\ntoronto_data.head()"
        },
        {
            "cell_type": "code",
            "execution_count": 75,
            "metadata": {},
            "outputs": [],
            "source": "CLIENT_ID = 'QEF4SFROUUVOQKNPAFNNRDUW4ACAWSYYG312LM3BKEDDKPIZ' # your Foursquare ID\nCLIENT_SECRET = 'CCBFW1WDVTUYDLPFX3SR0QBB5R2UKRYOZ3F1JDJ3PLQMPDRM' # your Foursquare Secret\nVERSION = '20180604'"
        },
        {
            "cell_type": "code",
            "execution_count": 76,
            "metadata": {},
            "outputs": [],
            "source": "def getNearbyVenues(names, latitudes, longitudes):\n    radius=500\n    LIMIT=100\n    venues_list=[]\n    for name, lat, lng in zip(names, latitudes, longitudes):\n        print(name)\n            \n        # create the API request URL\n        url = 'https://api.foursquare.com/v2/venues/explore?&client_id={}&client_secret={}&v={}&ll={},{}&radius={}&limit={}'.format(\n            CLIENT_ID, \n            CLIENT_SECRET, \n            VERSION, \n            lat, \n            lng, \n            radius, \n            LIMIT)\n            \n        # make the GET request\n        results = requests.get(url).json()[\"response\"]['groups'][0]['items']\n        \n        # return only relevant information for each nearby venue\n        venues_list.append([(\n            name, \n            lat, \n            lng, \n            v['venue']['name'], \n            v['venue']['location']['lat'], \n            v['venue']['location']['lng'],  \n            v['venue']['categories'][0]['name']) for v in results])\n\n    nearby_venues = pd.DataFrame([item for venue_list in venues_list for item in venue_list])\n    nearby_venues.columns = ['Neighborhood', \n                  'Neighborhood Latitude', \n                  'Neighborhood Longitude', \n                  'Venue', \n                  'Venue Latitude', \n                  'Venue Longitude', \n                  'Venue Category']\n    \n    return(nearby_venues)"
        },
        {
            "cell_type": "code",
            "execution_count": 77,
            "metadata": {},
            "outputs": [
                {
                    "name": "stdout",
                    "output_type": "stream",
                    "text": "The Beaches\nThe Danforth West, Riverdale\nIndia Bazaar, The Beaches West\nStudio District\nLawrence Park\nDavisville North\nNorth Toronto West,  Lawrence Park\nDavisville\nMoore Park, Summerhill East\nSummerhill West, Rathnelly, South Hill, Forest Hill SE, Deer Park\nRosedale\nSt. James Town, Cabbagetown\nChurch and Wellesley\nRegent Park, Harbourfront\nGarden District, Ryerson\nSt. James Town\nBerczy Park\nCentral Bay Street\nRichmond, Adelaide, King\nHarbourfront East, Union Station, Toronto Islands\nToronto Dominion Centre, Design Exchange\nCommerce Court, Victoria Hotel\nRoselawn\nForest Hill North & West, Forest Hill Road Park\nThe Annex, North Midtown, Yorkville\nUniversity of Toronto, Harbord\nKensington Market, Chinatown, Grange Park\nCN Tower, King and Spadina, Railway Lands, Harbourfront West, Bathurst Quay, South Niagara, Island airport\nStn A PO Boxes\nFirst Canadian Place, Underground city\nChristie\nDufferin, Dovercourt Village\nLittle Portugal, Trinity\nBrockton, Parkdale Village, Exhibition Place\nHigh Park, The Junction South\nParkdale, Roncesvalles\nRunnymede, Swansea\nQueen's Park, Ontario Provincial Government\nBusiness reply mail Processing Centre, South Central Letter Processing Plant Toronto\n"
                }
            ],
            "source": "toronto_venues = getNearbyVenues(names=toronto_data['Neighborhood'],\n                                   latitudes=toronto_data['Latitude'],\n                                   longitudes=toronto_data['Longitude']\n                                  )"
        },
        {
            "cell_type": "code",
            "execution_count": 78,
            "metadata": {},
            "outputs": [
                {
                    "data": {
                        "text/html": "<div>\n<style scoped>\n    .dataframe tbody tr th:only-of-type {\n        vertical-align: middle;\n    }\n\n    .dataframe tbody tr th {\n        vertical-align: top;\n    }\n\n    .dataframe thead th {\n        text-align: right;\n    }\n</style>\n<table border=\"1\" class=\"dataframe\">\n  <thead>\n    <tr style=\"text-align: right;\">\n      <th></th>\n      <th>Neighborhood</th>\n      <th>Neighborhood Latitude</th>\n      <th>Neighborhood Longitude</th>\n      <th>Venue</th>\n      <th>Venue Latitude</th>\n      <th>Venue Longitude</th>\n      <th>Venue Category</th>\n    </tr>\n  </thead>\n  <tbody>\n    <tr>\n      <th>0</th>\n      <td>The Beaches</td>\n      <td>43.676357</td>\n      <td>-79.293031</td>\n      <td>Glen Manor Ravine</td>\n      <td>43.676821</td>\n      <td>-79.293942</td>\n      <td>Trail</td>\n    </tr>\n    <tr>\n      <th>1</th>\n      <td>The Beaches</td>\n      <td>43.676357</td>\n      <td>-79.293031</td>\n      <td>The Big Carrot Natural Food Market</td>\n      <td>43.678879</td>\n      <td>-79.297734</td>\n      <td>Health Food Store</td>\n    </tr>\n    <tr>\n      <th>2</th>\n      <td>The Beaches</td>\n      <td>43.676357</td>\n      <td>-79.293031</td>\n      <td>Grover Pub and Grub</td>\n      <td>43.679181</td>\n      <td>-79.297215</td>\n      <td>Pub</td>\n    </tr>\n    <tr>\n      <th>3</th>\n      <td>The Beaches</td>\n      <td>43.676357</td>\n      <td>-79.293031</td>\n      <td>Upper Beaches</td>\n      <td>43.680563</td>\n      <td>-79.292869</td>\n      <td>Neighborhood</td>\n    </tr>\n    <tr>\n      <th>4</th>\n      <td>The Danforth West, Riverdale</td>\n      <td>43.679557</td>\n      <td>-79.352188</td>\n      <td>MenEssentials</td>\n      <td>43.677820</td>\n      <td>-79.351265</td>\n      <td>Cosmetics Shop</td>\n    </tr>\n  </tbody>\n</table>\n</div>",
                        "text/plain": "                   Neighborhood  Neighborhood Latitude  \\\n0                   The Beaches              43.676357   \n1                   The Beaches              43.676357   \n2                   The Beaches              43.676357   \n3                   The Beaches              43.676357   \n4  The Danforth West, Riverdale              43.679557   \n\n   Neighborhood Longitude                               Venue  Venue Latitude  \\\n0              -79.293031                   Glen Manor Ravine       43.676821   \n1              -79.293031  The Big Carrot Natural Food Market       43.678879   \n2              -79.293031                 Grover Pub and Grub       43.679181   \n3              -79.293031                       Upper Beaches       43.680563   \n4              -79.352188                       MenEssentials       43.677820   \n\n   Venue Longitude     Venue Category  \n0       -79.293942              Trail  \n1       -79.297734  Health Food Store  \n2       -79.297215                Pub  \n3       -79.292869       Neighborhood  \n4       -79.351265     Cosmetics Shop  "
                    },
                    "execution_count": 78,
                    "metadata": {},
                    "output_type": "execute_result"
                }
            ],
            "source": "toronto_venues.head()"
        },
        {
            "cell_type": "code",
            "execution_count": 79,
            "metadata": {},
            "outputs": [
                {
                    "data": {
                        "text/html": "<div>\n<style scoped>\n    .dataframe tbody tr th:only-of-type {\n        vertical-align: middle;\n    }\n\n    .dataframe tbody tr th {\n        vertical-align: top;\n    }\n\n    .dataframe thead th {\n        text-align: right;\n    }\n</style>\n<table border=\"1\" class=\"dataframe\">\n  <thead>\n    <tr style=\"text-align: right;\">\n      <th></th>\n      <th>Neighborhood Latitude</th>\n      <th>Neighborhood Longitude</th>\n      <th>Venue</th>\n      <th>Venue Latitude</th>\n      <th>Venue Longitude</th>\n      <th>Venue Category</th>\n    </tr>\n    <tr>\n      <th>Neighborhood</th>\n      <th></th>\n      <th></th>\n      <th></th>\n      <th></th>\n      <th></th>\n      <th></th>\n    </tr>\n  </thead>\n  <tbody>\n    <tr>\n      <th>Berczy Park</th>\n      <td>58</td>\n      <td>58</td>\n      <td>58</td>\n      <td>58</td>\n      <td>58</td>\n      <td>58</td>\n    </tr>\n    <tr>\n      <th>Brockton, Parkdale Village, Exhibition Place</th>\n      <td>23</td>\n      <td>23</td>\n      <td>23</td>\n      <td>23</td>\n      <td>23</td>\n      <td>23</td>\n    </tr>\n    <tr>\n      <th>Business reply mail Processing Centre, South Central Letter Processing Plant Toronto</th>\n      <td>13</td>\n      <td>13</td>\n      <td>13</td>\n      <td>13</td>\n      <td>13</td>\n      <td>13</td>\n    </tr>\n    <tr>\n      <th>CN Tower, King and Spadina, Railway Lands, Harbourfront West, Bathurst Quay, South Niagara, Island airport</th>\n      <td>14</td>\n      <td>14</td>\n      <td>14</td>\n      <td>14</td>\n      <td>14</td>\n      <td>14</td>\n    </tr>\n    <tr>\n      <th>Central Bay Street</th>\n      <td>62</td>\n      <td>62</td>\n      <td>62</td>\n      <td>62</td>\n      <td>62</td>\n      <td>62</td>\n    </tr>\n    <tr>\n      <th>Christie</th>\n      <td>17</td>\n      <td>17</td>\n      <td>17</td>\n      <td>17</td>\n      <td>17</td>\n      <td>17</td>\n    </tr>\n    <tr>\n      <th>Church and Wellesley</th>\n      <td>76</td>\n      <td>76</td>\n      <td>76</td>\n      <td>76</td>\n      <td>76</td>\n      <td>76</td>\n    </tr>\n    <tr>\n      <th>Commerce Court, Victoria Hotel</th>\n      <td>100</td>\n      <td>100</td>\n      <td>100</td>\n      <td>100</td>\n      <td>100</td>\n      <td>100</td>\n    </tr>\n    <tr>\n      <th>Davisville</th>\n      <td>35</td>\n      <td>35</td>\n      <td>35</td>\n      <td>35</td>\n      <td>35</td>\n      <td>35</td>\n    </tr>\n    <tr>\n      <th>Davisville North</th>\n      <td>9</td>\n      <td>9</td>\n      <td>9</td>\n      <td>9</td>\n      <td>9</td>\n      <td>9</td>\n    </tr>\n    <tr>\n      <th>Dufferin, Dovercourt Village</th>\n      <td>14</td>\n      <td>14</td>\n      <td>14</td>\n      <td>14</td>\n      <td>14</td>\n      <td>14</td>\n    </tr>\n    <tr>\n      <th>First Canadian Place, Underground city</th>\n      <td>100</td>\n      <td>100</td>\n      <td>100</td>\n      <td>100</td>\n      <td>100</td>\n      <td>100</td>\n    </tr>\n    <tr>\n      <th>Forest Hill North &amp; West, Forest Hill Road Park</th>\n      <td>4</td>\n      <td>4</td>\n      <td>4</td>\n      <td>4</td>\n      <td>4</td>\n      <td>4</td>\n    </tr>\n    <tr>\n      <th>Garden District, Ryerson</th>\n      <td>100</td>\n      <td>100</td>\n      <td>100</td>\n      <td>100</td>\n      <td>100</td>\n      <td>100</td>\n    </tr>\n    <tr>\n      <th>Harbourfront East, Union Station, Toronto Islands</th>\n      <td>100</td>\n      <td>100</td>\n      <td>100</td>\n      <td>100</td>\n      <td>100</td>\n      <td>100</td>\n    </tr>\n    <tr>\n      <th>High Park, The Junction South</th>\n      <td>25</td>\n      <td>25</td>\n      <td>25</td>\n      <td>25</td>\n      <td>25</td>\n      <td>25</td>\n    </tr>\n    <tr>\n      <th>India Bazaar, The Beaches West</th>\n      <td>22</td>\n      <td>22</td>\n      <td>22</td>\n      <td>22</td>\n      <td>22</td>\n      <td>22</td>\n    </tr>\n    <tr>\n      <th>Kensington Market, Chinatown, Grange Park</th>\n      <td>65</td>\n      <td>65</td>\n      <td>65</td>\n      <td>65</td>\n      <td>65</td>\n      <td>65</td>\n    </tr>\n    <tr>\n      <th>Lawrence Park</th>\n      <td>3</td>\n      <td>3</td>\n      <td>3</td>\n      <td>3</td>\n      <td>3</td>\n      <td>3</td>\n    </tr>\n    <tr>\n      <th>Little Portugal, Trinity</th>\n      <td>49</td>\n      <td>49</td>\n      <td>49</td>\n      <td>49</td>\n      <td>49</td>\n      <td>49</td>\n    </tr>\n    <tr>\n      <th>Moore Park, Summerhill East</th>\n      <td>3</td>\n      <td>3</td>\n      <td>3</td>\n      <td>3</td>\n      <td>3</td>\n      <td>3</td>\n    </tr>\n    <tr>\n      <th>North Toronto West,  Lawrence Park</th>\n      <td>18</td>\n      <td>18</td>\n      <td>18</td>\n      <td>18</td>\n      <td>18</td>\n      <td>18</td>\n    </tr>\n    <tr>\n      <th>Parkdale, Roncesvalles</th>\n      <td>14</td>\n      <td>14</td>\n      <td>14</td>\n      <td>14</td>\n      <td>14</td>\n      <td>14</td>\n    </tr>\n    <tr>\n      <th>Queen's Park, Ontario Provincial Government</th>\n      <td>31</td>\n      <td>31</td>\n      <td>31</td>\n      <td>31</td>\n      <td>31</td>\n      <td>31</td>\n    </tr>\n    <tr>\n      <th>Regent Park, Harbourfront</th>\n      <td>46</td>\n      <td>46</td>\n      <td>46</td>\n      <td>46</td>\n      <td>46</td>\n      <td>46</td>\n    </tr>\n    <tr>\n      <th>Richmond, Adelaide, King</th>\n      <td>100</td>\n      <td>100</td>\n      <td>100</td>\n      <td>100</td>\n      <td>100</td>\n      <td>100</td>\n    </tr>\n    <tr>\n      <th>Rosedale</th>\n      <td>4</td>\n      <td>4</td>\n      <td>4</td>\n      <td>4</td>\n      <td>4</td>\n      <td>4</td>\n    </tr>\n    <tr>\n      <th>Roselawn</th>\n      <td>2</td>\n      <td>2</td>\n      <td>2</td>\n      <td>2</td>\n      <td>2</td>\n      <td>2</td>\n    </tr>\n    <tr>\n      <th>Runnymede, Swansea</th>\n      <td>38</td>\n      <td>38</td>\n      <td>38</td>\n      <td>38</td>\n      <td>38</td>\n      <td>38</td>\n    </tr>\n    <tr>\n      <th>St. James Town</th>\n      <td>85</td>\n      <td>85</td>\n      <td>85</td>\n      <td>85</td>\n      <td>85</td>\n      <td>85</td>\n    </tr>\n    <tr>\n      <th>St. James Town, Cabbagetown</th>\n      <td>45</td>\n      <td>45</td>\n      <td>45</td>\n      <td>45</td>\n      <td>45</td>\n      <td>45</td>\n    </tr>\n    <tr>\n      <th>Stn A PO Boxes</th>\n      <td>98</td>\n      <td>98</td>\n      <td>98</td>\n      <td>98</td>\n      <td>98</td>\n      <td>98</td>\n    </tr>\n    <tr>\n      <th>Studio District</th>\n      <td>40</td>\n      <td>40</td>\n      <td>40</td>\n      <td>40</td>\n      <td>40</td>\n      <td>40</td>\n    </tr>\n    <tr>\n      <th>Summerhill West, Rathnelly, South Hill, Forest Hill SE, Deer Park</th>\n      <td>18</td>\n      <td>18</td>\n      <td>18</td>\n      <td>18</td>\n      <td>18</td>\n      <td>18</td>\n    </tr>\n    <tr>\n      <th>The Annex, North Midtown, Yorkville</th>\n      <td>20</td>\n      <td>20</td>\n      <td>20</td>\n      <td>20</td>\n      <td>20</td>\n      <td>20</td>\n    </tr>\n    <tr>\n      <th>The Beaches</th>\n      <td>4</td>\n      <td>4</td>\n      <td>4</td>\n      <td>4</td>\n      <td>4</td>\n      <td>4</td>\n    </tr>\n    <tr>\n      <th>The Danforth West, Riverdale</th>\n      <td>42</td>\n      <td>42</td>\n      <td>42</td>\n      <td>42</td>\n      <td>42</td>\n      <td>42</td>\n    </tr>\n    <tr>\n      <th>Toronto Dominion Centre, Design Exchange</th>\n      <td>100</td>\n      <td>100</td>\n      <td>100</td>\n      <td>100</td>\n      <td>100</td>\n      <td>100</td>\n    </tr>\n    <tr>\n      <th>University of Toronto, Harbord</th>\n      <td>34</td>\n      <td>34</td>\n      <td>34</td>\n      <td>34</td>\n      <td>34</td>\n      <td>34</td>\n    </tr>\n  </tbody>\n</table>\n</div>",
                        "text/plain": "                                                    Neighborhood Latitude  \\\nNeighborhood                                                                \nBerczy Park                                                            58   \nBrockton, Parkdale Village, Exhibition Place                           23   \nBusiness reply mail Processing Centre, South Ce...                     13   \nCN Tower, King and Spadina, Railway Lands, Harb...                     14   \nCentral Bay Street                                                     62   \nChristie                                                               17   \nChurch and Wellesley                                                   76   \nCommerce Court, Victoria Hotel                                        100   \nDavisville                                                             35   \nDavisville North                                                        9   \nDufferin, Dovercourt Village                                           14   \nFirst Canadian Place, Underground city                                100   \nForest Hill North & West, Forest Hill Road Park                         4   \nGarden District, Ryerson                                              100   \nHarbourfront East, Union Station, Toronto Islands                     100   \nHigh Park, The Junction South                                          25   \nIndia Bazaar, The Beaches West                                         22   \nKensington Market, Chinatown, Grange Park                              65   \nLawrence Park                                                           3   \nLittle Portugal, Trinity                                               49   \nMoore Park, Summerhill East                                             3   \nNorth Toronto West,  Lawrence Park                                     18   \nParkdale, Roncesvalles                                                 14   \nQueen's Park, Ontario Provincial Government                            31   \nRegent Park, Harbourfront                                              46   \nRichmond, Adelaide, King                                              100   \nRosedale                                                                4   \nRoselawn                                                                2   \nRunnymede, Swansea                                                     38   \nSt. James Town                                                         85   \nSt. James Town, Cabbagetown                                            45   \nStn A PO Boxes                                                         98   \nStudio District                                                        40   \nSummerhill West, Rathnelly, South Hill, Forest ...                     18   \nThe Annex, North Midtown, Yorkville                                    20   \nThe Beaches                                                             4   \nThe Danforth West, Riverdale                                           42   \nToronto Dominion Centre, Design Exchange                              100   \nUniversity of Toronto, Harbord                                         34   \n\n                                                    Neighborhood Longitude  \\\nNeighborhood                                                                 \nBerczy Park                                                             58   \nBrockton, Parkdale Village, Exhibition Place                            23   \nBusiness reply mail Processing Centre, South Ce...                      13   \nCN Tower, King and Spadina, Railway Lands, Harb...                      14   \nCentral Bay Street                                                      62   \nChristie                                                                17   \nChurch and Wellesley                                                    76   \nCommerce Court, Victoria Hotel                                         100   \nDavisville                                                              35   \nDavisville North                                                         9   \nDufferin, Dovercourt Village                                            14   \nFirst Canadian Place, Underground city                                 100   \nForest Hill North & West, Forest Hill Road Park                          4   \nGarden District, Ryerson                                               100   \nHarbourfront East, Union Station, Toronto Islands                      100   \nHigh Park, The Junction South                                           25   \nIndia Bazaar, The Beaches West                                          22   \nKensington Market, Chinatown, Grange Park                               65   \nLawrence Park                                                            3   \nLittle Portugal, Trinity                                                49   \nMoore Park, Summerhill East                                              3   \nNorth Toronto West,  Lawrence Park                                      18   \nParkdale, Roncesvalles                                                  14   \nQueen's Park, Ontario Provincial Government                             31   \nRegent Park, Harbourfront                                               46   \nRichmond, Adelaide, King                                               100   \nRosedale                                                                 4   \nRoselawn                                                                 2   \nRunnymede, Swansea                                                      38   \nSt. James Town                                                          85   \nSt. James Town, Cabbagetown                                             45   \nStn A PO Boxes                                                          98   \nStudio District                                                         40   \nSummerhill West, Rathnelly, South Hill, Forest ...                      18   \nThe Annex, North Midtown, Yorkville                                     20   \nThe Beaches                                                              4   \nThe Danforth West, Riverdale                                            42   \nToronto Dominion Centre, Design Exchange                               100   \nUniversity of Toronto, Harbord                                          34   \n\n                                                    Venue  Venue Latitude  \\\nNeighborhood                                                                \nBerczy Park                                            58              58   \nBrockton, Parkdale Village, Exhibition Place           23              23   \nBusiness reply mail Processing Centre, South Ce...     13              13   \nCN Tower, King and Spadina, Railway Lands, Harb...     14              14   \nCentral Bay Street                                     62              62   \nChristie                                               17              17   \nChurch and Wellesley                                   76              76   \nCommerce Court, Victoria Hotel                        100             100   \nDavisville                                             35              35   \nDavisville North                                        9               9   \nDufferin, Dovercourt Village                           14              14   \nFirst Canadian Place, Underground city                100             100   \nForest Hill North & West, Forest Hill Road Park         4               4   \nGarden District, Ryerson                              100             100   \nHarbourfront East, Union Station, Toronto Islands     100             100   \nHigh Park, The Junction South                          25              25   \nIndia Bazaar, The Beaches West                         22              22   \nKensington Market, Chinatown, Grange Park              65              65   \nLawrence Park                                           3               3   \nLittle Portugal, Trinity                               49              49   \nMoore Park, Summerhill East                             3               3   \nNorth Toronto West,  Lawrence Park                     18              18   \nParkdale, Roncesvalles                                 14              14   \nQueen's Park, Ontario Provincial Government            31              31   \nRegent Park, Harbourfront                              46              46   \nRichmond, Adelaide, King                              100             100   \nRosedale                                                4               4   \nRoselawn                                                2               2   \nRunnymede, Swansea                                     38              38   \nSt. James Town                                         85              85   \nSt. James Town, Cabbagetown                            45              45   \nStn A PO Boxes                                         98              98   \nStudio District                                        40              40   \nSummerhill West, Rathnelly, South Hill, Forest ...     18              18   \nThe Annex, North Midtown, Yorkville                    20              20   \nThe Beaches                                             4               4   \nThe Danforth West, Riverdale                           42              42   \nToronto Dominion Centre, Design Exchange              100             100   \nUniversity of Toronto, Harbord                         34              34   \n\n                                                    Venue Longitude  \\\nNeighborhood                                                          \nBerczy Park                                                      58   \nBrockton, Parkdale Village, Exhibition Place                     23   \nBusiness reply mail Processing Centre, South Ce...               13   \nCN Tower, King and Spadina, Railway Lands, Harb...               14   \nCentral Bay Street                                               62   \nChristie                                                         17   \nChurch and Wellesley                                             76   \nCommerce Court, Victoria Hotel                                  100   \nDavisville                                                       35   \nDavisville North                                                  9   \nDufferin, Dovercourt Village                                     14   \nFirst Canadian Place, Underground city                          100   \nForest Hill North & West, Forest Hill Road Park                   4   \nGarden District, Ryerson                                        100   \nHarbourfront East, Union Station, Toronto Islands               100   \nHigh Park, The Junction South                                    25   \nIndia Bazaar, The Beaches West                                   22   \nKensington Market, Chinatown, Grange Park                        65   \nLawrence Park                                                     3   \nLittle Portugal, Trinity                                         49   \nMoore Park, Summerhill East                                       3   \nNorth Toronto West,  Lawrence Park                               18   \nParkdale, Roncesvalles                                           14   \nQueen's Park, Ontario Provincial Government                      31   \nRegent Park, Harbourfront                                        46   \nRichmond, Adelaide, King                                        100   \nRosedale                                                          4   \nRoselawn                                                          2   \nRunnymede, Swansea                                               38   \nSt. James Town                                                   85   \nSt. James Town, Cabbagetown                                      45   \nStn A PO Boxes                                                   98   \nStudio District                                                  40   \nSummerhill West, Rathnelly, South Hill, Forest ...               18   \nThe Annex, North Midtown, Yorkville                              20   \nThe Beaches                                                       4   \nThe Danforth West, Riverdale                                     42   \nToronto Dominion Centre, Design Exchange                        100   \nUniversity of Toronto, Harbord                                   34   \n\n                                                    Venue Category  \nNeighborhood                                                        \nBerczy Park                                                     58  \nBrockton, Parkdale Village, Exhibition Place                    23  \nBusiness reply mail Processing Centre, South Ce...              13  \nCN Tower, King and Spadina, Railway Lands, Harb...              14  \nCentral Bay Street                                              62  \nChristie                                                        17  \nChurch and Wellesley                                            76  \nCommerce Court, Victoria Hotel                                 100  \nDavisville                                                      35  \nDavisville North                                                 9  \nDufferin, Dovercourt Village                                    14  \nFirst Canadian Place, Underground city                         100  \nForest Hill North & West, Forest Hill Road Park                  4  \nGarden District, Ryerson                                       100  \nHarbourfront East, Union Station, Toronto Islands              100  \nHigh Park, The Junction South                                   25  \nIndia Bazaar, The Beaches West                                  22  \nKensington Market, Chinatown, Grange Park                       65  \nLawrence Park                                                    3  \nLittle Portugal, Trinity                                        49  \nMoore Park, Summerhill East                                      3  \nNorth Toronto West,  Lawrence Park                              18  \nParkdale, Roncesvalles                                          14  \nQueen's Park, Ontario Provincial Government                     31  \nRegent Park, Harbourfront                                       46  \nRichmond, Adelaide, King                                       100  \nRosedale                                                         4  \nRoselawn                                                         2  \nRunnymede, Swansea                                              38  \nSt. James Town                                                  85  \nSt. James Town, Cabbagetown                                     45  \nStn A PO Boxes                                                  98  \nStudio District                                                 40  \nSummerhill West, Rathnelly, South Hill, Forest ...              18  \nThe Annex, North Midtown, Yorkville                             20  \nThe Beaches                                                      4  \nThe Danforth West, Riverdale                                    42  \nToronto Dominion Centre, Design Exchange                       100  \nUniversity of Toronto, Harbord                                  34  "
                    },
                    "execution_count": 79,
                    "metadata": {},
                    "output_type": "execute_result"
                }
            ],
            "source": "toronto_venues.groupby('Neighborhood').count()"
        },
        {
            "cell_type": "code",
            "execution_count": 80,
            "metadata": {},
            "outputs": [
                {
                    "data": {
                        "text/plain": "(1631, 233)"
                    },
                    "execution_count": 80,
                    "metadata": {},
                    "output_type": "execute_result"
                }
            ],
            "source": "# one hot encoding\ntoronto_onehot = pd.get_dummies(toronto_venues[['Venue Category']], prefix=\"\", prefix_sep=\"\")\ntoronto_onehot.drop(['Neighborhood'],axis=1,inplace=True) \ntoronto_onehot.insert(loc=0, column='Neighborhood', value=toronto_venues['Neighborhood'] )\ntoronto_onehot.shape"
        },
        {
            "cell_type": "code",
            "execution_count": 81,
            "metadata": {},
            "outputs": [
                {
                    "data": {
                        "text/html": "<div>\n<style scoped>\n    .dataframe tbody tr th:only-of-type {\n        vertical-align: middle;\n    }\n\n    .dataframe tbody tr th {\n        vertical-align: top;\n    }\n\n    .dataframe thead th {\n        text-align: right;\n    }\n</style>\n<table border=\"1\" class=\"dataframe\">\n  <thead>\n    <tr style=\"text-align: right;\">\n      <th></th>\n      <th>Neighborhood</th>\n      <th>Afghan Restaurant</th>\n      <th>Airport</th>\n      <th>Airport Food Court</th>\n      <th>Airport Lounge</th>\n      <th>Airport Service</th>\n      <th>Airport Terminal</th>\n      <th>American Restaurant</th>\n      <th>Antique Shop</th>\n      <th>Aquarium</th>\n      <th>...</th>\n      <th>Toy / Game Store</th>\n      <th>Trail</th>\n      <th>Train Station</th>\n      <th>Vegetarian / Vegan Restaurant</th>\n      <th>Video Game Store</th>\n      <th>Vietnamese Restaurant</th>\n      <th>Wine Bar</th>\n      <th>Wine Shop</th>\n      <th>Women's Store</th>\n      <th>Yoga Studio</th>\n    </tr>\n  </thead>\n  <tbody>\n    <tr>\n      <th>0</th>\n      <td>Berczy Park</td>\n      <td>0.0</td>\n      <td>0.000000</td>\n      <td>0.000000</td>\n      <td>0.000000</td>\n      <td>0.000000</td>\n      <td>0.000000</td>\n      <td>0.017241</td>\n      <td>0.0</td>\n      <td>0.0</td>\n      <td>...</td>\n      <td>0.0</td>\n      <td>0.0</td>\n      <td>0.0</td>\n      <td>0.017241</td>\n      <td>0.0</td>\n      <td>0.0</td>\n      <td>0.000000</td>\n      <td>0.0</td>\n      <td>0.0</td>\n      <td>0.000000</td>\n    </tr>\n    <tr>\n      <th>1</th>\n      <td>Brockton, Parkdale Village, Exhibition Place</td>\n      <td>0.0</td>\n      <td>0.000000</td>\n      <td>0.000000</td>\n      <td>0.000000</td>\n      <td>0.000000</td>\n      <td>0.000000</td>\n      <td>0.000000</td>\n      <td>0.0</td>\n      <td>0.0</td>\n      <td>...</td>\n      <td>0.0</td>\n      <td>0.0</td>\n      <td>0.0</td>\n      <td>0.000000</td>\n      <td>0.0</td>\n      <td>0.0</td>\n      <td>0.000000</td>\n      <td>0.0</td>\n      <td>0.0</td>\n      <td>0.000000</td>\n    </tr>\n    <tr>\n      <th>2</th>\n      <td>Business reply mail Processing Centre, South C...</td>\n      <td>0.0</td>\n      <td>0.000000</td>\n      <td>0.000000</td>\n      <td>0.000000</td>\n      <td>0.000000</td>\n      <td>0.000000</td>\n      <td>0.000000</td>\n      <td>0.0</td>\n      <td>0.0</td>\n      <td>...</td>\n      <td>0.0</td>\n      <td>0.0</td>\n      <td>0.0</td>\n      <td>0.000000</td>\n      <td>0.0</td>\n      <td>0.0</td>\n      <td>0.000000</td>\n      <td>0.0</td>\n      <td>0.0</td>\n      <td>0.000000</td>\n    </tr>\n    <tr>\n      <th>3</th>\n      <td>CN Tower, King and Spadina, Railway Lands, Har...</td>\n      <td>0.0</td>\n      <td>0.071429</td>\n      <td>0.071429</td>\n      <td>0.142857</td>\n      <td>0.142857</td>\n      <td>0.142857</td>\n      <td>0.000000</td>\n      <td>0.0</td>\n      <td>0.0</td>\n      <td>...</td>\n      <td>0.0</td>\n      <td>0.0</td>\n      <td>0.0</td>\n      <td>0.000000</td>\n      <td>0.0</td>\n      <td>0.0</td>\n      <td>0.000000</td>\n      <td>0.0</td>\n      <td>0.0</td>\n      <td>0.000000</td>\n    </tr>\n    <tr>\n      <th>4</th>\n      <td>Central Bay Street</td>\n      <td>0.0</td>\n      <td>0.000000</td>\n      <td>0.000000</td>\n      <td>0.000000</td>\n      <td>0.000000</td>\n      <td>0.000000</td>\n      <td>0.000000</td>\n      <td>0.0</td>\n      <td>0.0</td>\n      <td>...</td>\n      <td>0.0</td>\n      <td>0.0</td>\n      <td>0.0</td>\n      <td>0.016129</td>\n      <td>0.0</td>\n      <td>0.0</td>\n      <td>0.016129</td>\n      <td>0.0</td>\n      <td>0.0</td>\n      <td>0.016129</td>\n    </tr>\n  </tbody>\n</table>\n<p>5 rows \u00d7 233 columns</p>\n</div>",
                        "text/plain": "                                        Neighborhood  Afghan Restaurant  \\\n0                                        Berczy Park                0.0   \n1       Brockton, Parkdale Village, Exhibition Place                0.0   \n2  Business reply mail Processing Centre, South C...                0.0   \n3  CN Tower, King and Spadina, Railway Lands, Har...                0.0   \n4                                 Central Bay Street                0.0   \n\n    Airport  Airport Food Court  Airport Lounge  Airport Service  \\\n0  0.000000            0.000000        0.000000         0.000000   \n1  0.000000            0.000000        0.000000         0.000000   \n2  0.000000            0.000000        0.000000         0.000000   \n3  0.071429            0.071429        0.142857         0.142857   \n4  0.000000            0.000000        0.000000         0.000000   \n\n   Airport Terminal  American Restaurant  Antique Shop  Aquarium  ...  \\\n0          0.000000             0.017241           0.0       0.0  ...   \n1          0.000000             0.000000           0.0       0.0  ...   \n2          0.000000             0.000000           0.0       0.0  ...   \n3          0.142857             0.000000           0.0       0.0  ...   \n4          0.000000             0.000000           0.0       0.0  ...   \n\n   Toy / Game Store  Trail  Train Station  Vegetarian / Vegan Restaurant  \\\n0               0.0    0.0            0.0                       0.017241   \n1               0.0    0.0            0.0                       0.000000   \n2               0.0    0.0            0.0                       0.000000   \n3               0.0    0.0            0.0                       0.000000   \n4               0.0    0.0            0.0                       0.016129   \n\n   Video Game Store  Vietnamese Restaurant  Wine Bar  Wine Shop  \\\n0               0.0                    0.0  0.000000        0.0   \n1               0.0                    0.0  0.000000        0.0   \n2               0.0                    0.0  0.000000        0.0   \n3               0.0                    0.0  0.000000        0.0   \n4               0.0                    0.0  0.016129        0.0   \n\n   Women's Store  Yoga Studio  \n0            0.0     0.000000  \n1            0.0     0.000000  \n2            0.0     0.000000  \n3            0.0     0.000000  \n4            0.0     0.016129  \n\n[5 rows x 233 columns]"
                    },
                    "execution_count": 81,
                    "metadata": {},
                    "output_type": "execute_result"
                }
            ],
            "source": "toronto_grouped = toronto_onehot.groupby('Neighborhood').mean().reset_index()\ntoronto_grouped.head()"
        },
        {
            "cell_type": "code",
            "execution_count": 82,
            "metadata": {},
            "outputs": [],
            "source": "def return_most_common_venues(row, num_top_venues):\n    row_categories = row.iloc[1:]\n    row_categories_sorted = row_categories.sort_values(ascending=False)\n    \n    return row_categories_sorted.index.values[0:num_top_venues]"
        },
        {
            "cell_type": "code",
            "execution_count": 83,
            "metadata": {},
            "outputs": [
                {
                    "data": {
                        "text/html": "<div>\n<style scoped>\n    .dataframe tbody tr th:only-of-type {\n        vertical-align: middle;\n    }\n\n    .dataframe tbody tr th {\n        vertical-align: top;\n    }\n\n    .dataframe thead th {\n        text-align: right;\n    }\n</style>\n<table border=\"1\" class=\"dataframe\">\n  <thead>\n    <tr style=\"text-align: right;\">\n      <th></th>\n      <th>Neighborhood</th>\n      <th>1st Most Common Venue</th>\n      <th>2nd Most Common Venue</th>\n      <th>3rd Most Common Venue</th>\n      <th>4th Most Common Venue</th>\n      <th>5th Most Common Venue</th>\n      <th>6th Most Common Venue</th>\n      <th>7th Most Common Venue</th>\n      <th>8th Most Common Venue</th>\n      <th>9th Most Common Venue</th>\n      <th>10th Most Common Venue</th>\n    </tr>\n  </thead>\n  <tbody>\n    <tr>\n      <th>0</th>\n      <td>Berczy Park</td>\n      <td>Coffee Shop</td>\n      <td>Beer Bar</td>\n      <td>Farmers Market</td>\n      <td>Bakery</td>\n      <td>Cocktail Bar</td>\n      <td>Seafood Restaurant</td>\n      <td>Restaurant</td>\n      <td>Cheese Shop</td>\n      <td>Caf\u00e9</td>\n      <td>Italian Restaurant</td>\n    </tr>\n    <tr>\n      <th>1</th>\n      <td>Brockton, Parkdale Village, Exhibition Place</td>\n      <td>Caf\u00e9</td>\n      <td>Nightclub</td>\n      <td>Breakfast Spot</td>\n      <td>Coffee Shop</td>\n      <td>Grocery Store</td>\n      <td>Climbing Gym</td>\n      <td>Restaurant</td>\n      <td>Bar</td>\n      <td>Intersection</td>\n      <td>Bakery</td>\n    </tr>\n    <tr>\n      <th>2</th>\n      <td>Business reply mail Processing Centre, South C...</td>\n      <td>Garden</td>\n      <td>Auto Workshop</td>\n      <td>Park</td>\n      <td>Skate Park</td>\n      <td>Gym / Fitness Center</td>\n      <td>Comic Shop</td>\n      <td>Brewery</td>\n      <td>Pizza Place</td>\n      <td>Restaurant</td>\n      <td>Garden Center</td>\n    </tr>\n    <tr>\n      <th>3</th>\n      <td>CN Tower, King and Spadina, Railway Lands, Har...</td>\n      <td>Airport Lounge</td>\n      <td>Airport Service</td>\n      <td>Airport Terminal</td>\n      <td>Boat or Ferry</td>\n      <td>Rental Car Location</td>\n      <td>Sculpture Garden</td>\n      <td>Coffee Shop</td>\n      <td>Harbor / Marina</td>\n      <td>Boutique</td>\n      <td>Airport Food Court</td>\n    </tr>\n    <tr>\n      <th>4</th>\n      <td>Central Bay Street</td>\n      <td>Coffee Shop</td>\n      <td>Sandwich Place</td>\n      <td>Caf\u00e9</td>\n      <td>Italian Restaurant</td>\n      <td>Salad Place</td>\n      <td>Bubble Tea Shop</td>\n      <td>Burger Joint</td>\n      <td>Department Store</td>\n      <td>Japanese Restaurant</td>\n      <td>Modern European Restaurant</td>\n    </tr>\n  </tbody>\n</table>\n</div>",
                        "text/plain": "                                        Neighborhood 1st Most Common Venue  \\\n0                                        Berczy Park           Coffee Shop   \n1       Brockton, Parkdale Village, Exhibition Place                  Caf\u00e9   \n2  Business reply mail Processing Centre, South C...                Garden   \n3  CN Tower, King and Spadina, Railway Lands, Har...        Airport Lounge   \n4                                 Central Bay Street           Coffee Shop   \n\n  2nd Most Common Venue 3rd Most Common Venue 4th Most Common Venue  \\\n0              Beer Bar        Farmers Market                Bakery   \n1             Nightclub        Breakfast Spot           Coffee Shop   \n2         Auto Workshop                  Park            Skate Park   \n3       Airport Service      Airport Terminal         Boat or Ferry   \n4        Sandwich Place                  Caf\u00e9    Italian Restaurant   \n\n  5th Most Common Venue 6th Most Common Venue 7th Most Common Venue  \\\n0          Cocktail Bar    Seafood Restaurant            Restaurant   \n1         Grocery Store          Climbing Gym            Restaurant   \n2  Gym / Fitness Center            Comic Shop               Brewery   \n3   Rental Car Location      Sculpture Garden           Coffee Shop   \n4           Salad Place       Bubble Tea Shop          Burger Joint   \n\n  8th Most Common Venue 9th Most Common Venue      10th Most Common Venue  \n0           Cheese Shop                  Caf\u00e9          Italian Restaurant  \n1                   Bar          Intersection                      Bakery  \n2           Pizza Place            Restaurant               Garden Center  \n3       Harbor / Marina              Boutique          Airport Food Court  \n4      Department Store   Japanese Restaurant  Modern European Restaurant  "
                    },
                    "execution_count": 83,
                    "metadata": {},
                    "output_type": "execute_result"
                }
            ],
            "source": "num_top_venues = 10\n\nindicators = ['st', 'nd', 'rd']\n\n# create columns according to number of top venues\ncolumns = ['Neighborhood']\nfor ind in np.arange(num_top_venues):\n    try:\n        columns.append('{}{} Most Common Venue'.format(ind+1, indicators[ind]))\n    except:\n        columns.append('{}th Most Common Venue'.format(ind+1))\n\n# create a new dataframe\nneighborhoods_venues_sorted = pd.DataFrame(columns=columns)\nneighborhoods_venues_sorted['Neighborhood'] = toronto_grouped['Neighborhood']\n\nfor ind in np.arange(toronto_grouped.shape[0]):\n    neighborhoods_venues_sorted.iloc[ind, 1:] = return_most_common_venues(toronto_grouped.iloc[ind, :], num_top_venues)\n\nneighborhoods_venues_sorted.head()"
        },
        {
            "cell_type": "markdown",
            "metadata": {},
            "source": "# **Making Clusters for Neighborhood**"
        },
        {
            "cell_type": "code",
            "execution_count": 84,
            "metadata": {},
            "outputs": [
                {
                    "data": {
                        "text/plain": "array([0, 0, 0, 0, 0, 0, 0, 0, 0, 0], dtype=int32)"
                    },
                    "execution_count": 84,
                    "metadata": {},
                    "output_type": "execute_result"
                }
            ],
            "source": "# set number of clusters\nkclusters = 5\n\ntoronto_grouped_clustering = toronto_grouped.drop('Neighborhood', 1)\n\n# run k-means clustering\nkmeans = KMeans(n_clusters=kclusters, random_state=0).fit(toronto_grouped_clustering)\n\n# check cluster labels generated for each row in the dataframe\nkmeans.labels_[0:10]"
        },
        {
            "cell_type": "code",
            "execution_count": 85,
            "metadata": {},
            "outputs": [
                {
                    "data": {
                        "text/html": "<div>\n<style scoped>\n    .dataframe tbody tr th:only-of-type {\n        vertical-align: middle;\n    }\n\n    .dataframe tbody tr th {\n        vertical-align: top;\n    }\n\n    .dataframe thead th {\n        text-align: right;\n    }\n</style>\n<table border=\"1\" class=\"dataframe\">\n  <thead>\n    <tr style=\"text-align: right;\">\n      <th></th>\n      <th>Postalcode</th>\n      <th>Borough</th>\n      <th>Neighborhood</th>\n      <th>Latitude</th>\n      <th>Longitude</th>\n      <th>Cluster Labels</th>\n      <th>1st Most Common Venue</th>\n      <th>2nd Most Common Venue</th>\n      <th>3rd Most Common Venue</th>\n      <th>4th Most Common Venue</th>\n      <th>5th Most Common Venue</th>\n      <th>6th Most Common Venue</th>\n      <th>7th Most Common Venue</th>\n      <th>8th Most Common Venue</th>\n      <th>9th Most Common Venue</th>\n      <th>10th Most Common Venue</th>\n    </tr>\n  </thead>\n  <tbody>\n    <tr>\n      <th>37</th>\n      <td>M4E</td>\n      <td>East Toronto</td>\n      <td>The Beaches</td>\n      <td>43.676357</td>\n      <td>-79.293031</td>\n      <td>0</td>\n      <td>Health Food Store</td>\n      <td>Trail</td>\n      <td>Pub</td>\n      <td>Yoga Studio</td>\n      <td>Dance Studio</td>\n      <td>Eastern European Restaurant</td>\n      <td>Dumpling Restaurant</td>\n      <td>Donut Shop</td>\n      <td>Doner Restaurant</td>\n      <td>Dog Run</td>\n    </tr>\n    <tr>\n      <th>41</th>\n      <td>M4K</td>\n      <td>East Toronto</td>\n      <td>The Danforth West, Riverdale</td>\n      <td>43.679557</td>\n      <td>-79.352188</td>\n      <td>0</td>\n      <td>Greek Restaurant</td>\n      <td>Italian Restaurant</td>\n      <td>Coffee Shop</td>\n      <td>Restaurant</td>\n      <td>Ice Cream Shop</td>\n      <td>Furniture / Home Store</td>\n      <td>Fruit &amp; Vegetable Store</td>\n      <td>Pub</td>\n      <td>Pizza Place</td>\n      <td>Lounge</td>\n    </tr>\n    <tr>\n      <th>42</th>\n      <td>M4L</td>\n      <td>East Toronto</td>\n      <td>India Bazaar, The Beaches West</td>\n      <td>43.668999</td>\n      <td>-79.315572</td>\n      <td>0</td>\n      <td>Park</td>\n      <td>Fish &amp; Chips Shop</td>\n      <td>Ice Cream Shop</td>\n      <td>Steakhouse</td>\n      <td>Fast Food Restaurant</td>\n      <td>Restaurant</td>\n      <td>Sushi Restaurant</td>\n      <td>Brewery</td>\n      <td>Pub</td>\n      <td>Food &amp; Drink Shop</td>\n    </tr>\n    <tr>\n      <th>43</th>\n      <td>M4M</td>\n      <td>East Toronto</td>\n      <td>Studio District</td>\n      <td>43.659526</td>\n      <td>-79.340923</td>\n      <td>0</td>\n      <td>Caf\u00e9</td>\n      <td>Coffee Shop</td>\n      <td>Bakery</td>\n      <td>Gastropub</td>\n      <td>American Restaurant</td>\n      <td>Brewery</td>\n      <td>Yoga Studio</td>\n      <td>Fish Market</td>\n      <td>Ice Cream Shop</td>\n      <td>Italian Restaurant</td>\n    </tr>\n    <tr>\n      <th>44</th>\n      <td>M4N</td>\n      <td>Central Toronto</td>\n      <td>Lawrence Park</td>\n      <td>43.728020</td>\n      <td>-79.388790</td>\n      <td>2</td>\n      <td>Park</td>\n      <td>Swim School</td>\n      <td>Bus Line</td>\n      <td>Ethiopian Restaurant</td>\n      <td>Electronics Store</td>\n      <td>Eastern European Restaurant</td>\n      <td>Dumpling Restaurant</td>\n      <td>Donut Shop</td>\n      <td>Doner Restaurant</td>\n      <td>Dog Run</td>\n    </tr>\n  </tbody>\n</table>\n</div>",
                        "text/plain": "   Postalcode          Borough                    Neighborhood   Latitude  \\\n37        M4E     East Toronto                     The Beaches  43.676357   \n41        M4K     East Toronto    The Danforth West, Riverdale  43.679557   \n42        M4L     East Toronto  India Bazaar, The Beaches West  43.668999   \n43        M4M     East Toronto                 Studio District  43.659526   \n44        M4N  Central Toronto                   Lawrence Park  43.728020   \n\n    Longitude  Cluster Labels 1st Most Common Venue 2nd Most Common Venue  \\\n37 -79.293031               0     Health Food Store                 Trail   \n41 -79.352188               0      Greek Restaurant    Italian Restaurant   \n42 -79.315572               0                  Park     Fish & Chips Shop   \n43 -79.340923               0                  Caf\u00e9           Coffee Shop   \n44 -79.388790               2                  Park           Swim School   \n\n   3rd Most Common Venue 4th Most Common Venue 5th Most Common Venue  \\\n37                   Pub           Yoga Studio          Dance Studio   \n41           Coffee Shop            Restaurant        Ice Cream Shop   \n42        Ice Cream Shop            Steakhouse  Fast Food Restaurant   \n43                Bakery             Gastropub   American Restaurant   \n44              Bus Line  Ethiopian Restaurant     Electronics Store   \n\n          6th Most Common Venue    7th Most Common Venue  \\\n37  Eastern European Restaurant      Dumpling Restaurant   \n41       Furniture / Home Store  Fruit & Vegetable Store   \n42                   Restaurant         Sushi Restaurant   \n43                      Brewery              Yoga Studio   \n44  Eastern European Restaurant      Dumpling Restaurant   \n\n   8th Most Common Venue 9th Most Common Venue 10th Most Common Venue  \n37            Donut Shop      Doner Restaurant                Dog Run  \n41                   Pub           Pizza Place                 Lounge  \n42               Brewery                   Pub      Food & Drink Shop  \n43           Fish Market        Ice Cream Shop     Italian Restaurant  \n44            Donut Shop      Doner Restaurant                Dog Run  "
                    },
                    "execution_count": 85,
                    "metadata": {},
                    "output_type": "execute_result"
                }
            ],
            "source": "# add clustering labels\nneighborhoods_venues_sorted.insert(0, 'Cluster Labels', kmeans.labels_)\n\ntoronto_merged = toronto_data\n\n# merge toronto_grouped with toronto_data to add latitude/longitude for each neighborhood\ntoronto_merged = toronto_merged.join(neighborhoods_venues_sorted.set_index('Neighborhood'), on='Neighborhood')\n\ntoronto_merged.head()"
        },
        {
            "cell_type": "code",
            "execution_count": 86,
            "metadata": {},
            "outputs": [
                {
                    "data": {
                        "text/html": "<div>\n<style scoped>\n    .dataframe tbody tr th:only-of-type {\n        vertical-align: middle;\n    }\n\n    .dataframe tbody tr th {\n        vertical-align: top;\n    }\n\n    .dataframe thead th {\n        text-align: right;\n    }\n</style>\n<table border=\"1\" class=\"dataframe\">\n  <thead>\n    <tr style=\"text-align: right;\">\n      <th></th>\n      <th>Cluster Labels</th>\n      <th>Neighborhood</th>\n      <th>1st Most Common Venue</th>\n      <th>2nd Most Common Venue</th>\n      <th>3rd Most Common Venue</th>\n      <th>4th Most Common Venue</th>\n      <th>5th Most Common Venue</th>\n      <th>6th Most Common Venue</th>\n      <th>7th Most Common Venue</th>\n      <th>8th Most Common Venue</th>\n      <th>9th Most Common Venue</th>\n      <th>10th Most Common Venue</th>\n    </tr>\n  </thead>\n  <tbody>\n    <tr>\n      <th>0</th>\n      <td>0</td>\n      <td>Berczy Park</td>\n      <td>Coffee Shop</td>\n      <td>Beer Bar</td>\n      <td>Farmers Market</td>\n      <td>Bakery</td>\n      <td>Cocktail Bar</td>\n      <td>Seafood Restaurant</td>\n      <td>Restaurant</td>\n      <td>Cheese Shop</td>\n      <td>Caf\u00e9</td>\n      <td>Italian Restaurant</td>\n    </tr>\n    <tr>\n      <th>1</th>\n      <td>0</td>\n      <td>Brockton, Parkdale Village, Exhibition Place</td>\n      <td>Caf\u00e9</td>\n      <td>Nightclub</td>\n      <td>Breakfast Spot</td>\n      <td>Coffee Shop</td>\n      <td>Grocery Store</td>\n      <td>Climbing Gym</td>\n      <td>Restaurant</td>\n      <td>Bar</td>\n      <td>Intersection</td>\n      <td>Bakery</td>\n    </tr>\n    <tr>\n      <th>2</th>\n      <td>0</td>\n      <td>Business reply mail Processing Centre, South C...</td>\n      <td>Garden</td>\n      <td>Auto Workshop</td>\n      <td>Park</td>\n      <td>Skate Park</td>\n      <td>Gym / Fitness Center</td>\n      <td>Comic Shop</td>\n      <td>Brewery</td>\n      <td>Pizza Place</td>\n      <td>Restaurant</td>\n      <td>Garden Center</td>\n    </tr>\n    <tr>\n      <th>3</th>\n      <td>0</td>\n      <td>CN Tower, King and Spadina, Railway Lands, Har...</td>\n      <td>Airport Lounge</td>\n      <td>Airport Service</td>\n      <td>Airport Terminal</td>\n      <td>Boat or Ferry</td>\n      <td>Rental Car Location</td>\n      <td>Sculpture Garden</td>\n      <td>Coffee Shop</td>\n      <td>Harbor / Marina</td>\n      <td>Boutique</td>\n      <td>Airport Food Court</td>\n    </tr>\n    <tr>\n      <th>4</th>\n      <td>0</td>\n      <td>Central Bay Street</td>\n      <td>Coffee Shop</td>\n      <td>Sandwich Place</td>\n      <td>Caf\u00e9</td>\n      <td>Italian Restaurant</td>\n      <td>Salad Place</td>\n      <td>Bubble Tea Shop</td>\n      <td>Burger Joint</td>\n      <td>Department Store</td>\n      <td>Japanese Restaurant</td>\n      <td>Modern European Restaurant</td>\n    </tr>\n  </tbody>\n</table>\n</div>",
                        "text/plain": "   Cluster Labels                                       Neighborhood  \\\n0               0                                        Berczy Park   \n1               0       Brockton, Parkdale Village, Exhibition Place   \n2               0  Business reply mail Processing Centre, South C...   \n3               0  CN Tower, King and Spadina, Railway Lands, Har...   \n4               0                                 Central Bay Street   \n\n  1st Most Common Venue 2nd Most Common Venue 3rd Most Common Venue  \\\n0           Coffee Shop              Beer Bar        Farmers Market   \n1                  Caf\u00e9             Nightclub        Breakfast Spot   \n2                Garden         Auto Workshop                  Park   \n3        Airport Lounge       Airport Service      Airport Terminal   \n4           Coffee Shop        Sandwich Place                  Caf\u00e9   \n\n  4th Most Common Venue 5th Most Common Venue 6th Most Common Venue  \\\n0                Bakery          Cocktail Bar    Seafood Restaurant   \n1           Coffee Shop         Grocery Store          Climbing Gym   \n2            Skate Park  Gym / Fitness Center            Comic Shop   \n3         Boat or Ferry   Rental Car Location      Sculpture Garden   \n4    Italian Restaurant           Salad Place       Bubble Tea Shop   \n\n  7th Most Common Venue 8th Most Common Venue 9th Most Common Venue  \\\n0            Restaurant           Cheese Shop                  Caf\u00e9   \n1            Restaurant                   Bar          Intersection   \n2               Brewery           Pizza Place            Restaurant   \n3           Coffee Shop       Harbor / Marina              Boutique   \n4          Burger Joint      Department Store   Japanese Restaurant   \n\n       10th Most Common Venue  \n0          Italian Restaurant  \n1                      Bakery  \n2               Garden Center  \n3          Airport Food Court  \n4  Modern European Restaurant  "
                    },
                    "execution_count": 86,
                    "metadata": {},
                    "output_type": "execute_result"
                }
            ],
            "source": "neighborhoods_venues_sorted.head()"
        },
        {
            "cell_type": "code",
            "execution_count": 87,
            "metadata": {},
            "outputs": [
                {
                    "name": "stdout",
                    "output_type": "stream",
                    "text": "The geograpical coordinate of Manhattan are 43.6534817, -79.3839347.\n"
                }
            ],
            "source": "address = 'Toronto, CA'\n\ngeolocator = Nominatim(user_agent=\"ny_explorer\")\nlocation = geolocator.geocode(address)\nlatitude = location.latitude\nlongitude = location.longitude\nprint('The geograpical coordinate of Manhattan are {}, {}.'.format(latitude, longitude))"
        },
        {
            "cell_type": "markdown",
            "metadata": {},
            "source": "# *Creating map*"
        },
        {
            "cell_type": "code",
            "execution_count": 88,
            "metadata": {},
            "outputs": [
                {
                    "data": {
                        "text/html": "<div style=\"width:100%;\"><div style=\"position:relative;width:100%;height:0;padding-bottom:60%;\"><span style=\"color:#565656\">Make this Notebook Trusted to load map: File -> Trust Notebook</span><iframe src=\"about:blank\" style=\"position:absolute;width:100%;height:100%;left:0;top:0;border:none !important;\" data-html=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 onload=\"this.contentDocument.open();this.contentDocument.write(atob(this.getAttribute('data-html')));this.contentDocument.close();\" allowfullscreen webkitallowfullscreen mozallowfullscreen></iframe></div></div>",
                        "text/plain": "<folium.folium.Map at 0x7f5e71eff588>"
                    },
                    "execution_count": 88,
                    "metadata": {},
                    "output_type": "execute_result"
                }
            ],
            "source": "map_clusters = folium.Map(location=[latitude, longitude], zoom_start=11)\n\n# set color scheme for the clusters\nx = np.arange(kclusters)\nys = [i + x + (i*x)**2 for i in range(kclusters)]\ncolors_array = cm.rainbow(np.linspace(0, 1, len(ys)))\nrainbow = [colors.rgb2hex(i) for i in colors_array]\n\n# add markers to the map\nmarkers_colors = []\nfor lat, lon, poi, cluster in zip(toronto_merged['Latitude'], toronto_merged['Longitude'], toronto_merged['Neighborhood'], toronto_merged['Cluster Labels']):\n    label = folium.Popup(str(poi) + ' Cluster ' + str(cluster), parse_html=True)\n    folium.CircleMarker(\n        [lat, lon],\n        radius=5,\n        popup=label,\n        color=rainbow[cluster-1],\n        fill=True,\n        fill_color=rainbow[cluster-1],\n        fill_opacity=0.7).add_to(map_clusters)\n       \nmap_clusters"
        },
        {
            "cell_type": "code",
            "execution_count": null,
            "metadata": {},
            "outputs": [],
            "source": ""
        }
    ],
    "metadata": {
        "kernelspec": {
            "display_name": "Python 3.6",
            "language": "python",
            "name": "python3"
        },
        "language_info": {
            "codemirror_mode": {
                "name": "ipython",
                "version": 3
            },
            "file_extension": ".py",
            "mimetype": "text/x-python",
            "name": "python",
            "nbconvert_exporter": "python",
            "pygments_lexer": "ipython3",
            "version": "3.6.9"
        }
    },
    "nbformat": 4,
    "nbformat_minor": 1
}